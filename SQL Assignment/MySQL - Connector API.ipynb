{
 "cells": [
  {
   "cell_type": "code",
   "execution_count": 1,
   "metadata": {},
   "outputs": [
    {
     "name": "stdout",
     "output_type": "stream",
     "text": [
      "Collecting mysql-connector\n",
      "  Downloading mysql-connector-2.2.9.tar.gz (11.9 MB)\n",
      "Building wheels for collected packages: mysql-connector\n",
      "  Building wheel for mysql-connector (setup.py): started\n",
      "  Building wheel for mysql-connector (setup.py): finished with status 'done'\n",
      "  Created wheel for mysql-connector: filename=mysql_connector-2.2.9-cp36-cp36m-win_amd64.whl size=247965 sha256=ac82ba91b64909477cc28df720537349c45daa8a5eef03956b9e81fefa0bc868\n",
      "  Stored in directory: c:\\users\\aazim\\appdata\\local\\pip\\cache\\wheels\\23\\27\\3e\\72be437e6a950b8972728d2a62935ae7cd0d7c3c251fb2e737\n",
      "Successfully built mysql-connector\n",
      "Installing collected packages: mysql-connector\n",
      "Successfully installed mysql-connector-2.2.9\n"
     ]
    }
   ],
   "source": [
    "!pip install mysql-connector"
   ]
  },
  {
   "cell_type": "code",
   "execution_count": 6,
   "metadata": {},
   "outputs": [],
   "source": [
    "import mysql.connector"
   ]
  },
  {
   "cell_type": "code",
   "execution_count": 54,
   "metadata": {},
   "outputs": [
    {
     "name": "stdout",
     "output_type": "stream",
     "text": [
      "1\n"
     ]
    }
   ],
   "source": [
    "mydb = mysql.connector.connect(host=\"localhost\",user=\"root\",passwd=\"sql#1234\",auth_plugin='mysql_native_password')\n",
    "if (mydb):\n",
    "    print(1)\n",
    "else:\n",
    "    print(0)"
   ]
  },
  {
   "cell_type": "code",
   "execution_count": 37,
   "metadata": {},
   "outputs": [],
   "source": [
    "def display(table):\n",
    "    for row in table:\n",
    "        print(row)"
   ]
  },
  {
   "cell_type": "code",
   "execution_count": 38,
   "metadata": {},
   "outputs": [
    {
     "name": "stdout",
     "output_type": "stream",
     "text": [
      "('chicago',)\n",
      "('chicago_data',)\n",
      "('employees',)\n",
      "('employees_mod',)\n",
      "('information_schema',)\n",
      "('mysql',)\n",
      "('performance_schema',)\n",
      "('sales',)\n",
      "('sys',)\n"
     ]
    }
   ],
   "source": [
    "mycursor = mydb.cursor()\n",
    "mycursor.execute(\"Show DATABASES\")\n",
    "display(mycursor)"
   ]
  },
  {
   "cell_type": "code",
   "execution_count": 39,
   "metadata": {},
   "outputs": [
    {
     "name": "stdout",
     "output_type": "stream",
     "text": [
      "('census',)\n",
      "('crime',)\n",
      "('crime1',)\n",
      "('crime2',)\n",
      "('school',)\n",
      "('school1',)\n"
     ]
    }
   ],
   "source": [
    "mycursor.execute(\"Use Chicago_data\")\n",
    "mycursor.execute(\"Show Tables\")\n",
    "display(mycursor)"
   ]
  },
  {
   "cell_type": "code",
   "execution_count": 81,
   "metadata": {},
   "outputs": [
    {
     "name": "stdout",
     "output_type": "stream",
     "text": [
      "(533,)\n"
     ]
    }
   ],
   "source": [
    "mycursor.execute(\"Select COUNT(*) from Crime2\")\n",
    "display(mycursor)"
   ]
  },
  {
   "cell_type": "code",
   "execution_count": 41,
   "metadata": {},
   "outputs": [
    {
     "name": "stdout",
     "output_type": "stream",
     "text": [
      "('West Garfield Park',)\n",
      "('South Lawndale',)\n",
      "('Fuller Park',)\n",
      "('Riverdale',)\n"
     ]
    }
   ],
   "source": [
    "mycursor.execute(\"Select COMMUNITY_AREA_NAME from Census Where PER_CAPITA_INCOME<11000\")\n",
    "display(mycursor)"
   ]
  },
  {
   "cell_type": "code",
   "execution_count": 55,
   "metadata": {},
   "outputs": [
    {
     "name": "stdout",
     "output_type": "stream",
     "text": [
      "('HL266884',)\n",
      "('HK238408',)\n"
     ]
    }
   ],
   "source": [
    "mycursor.execute(\"Select CASE_NUMBER from Crime2 Where DESCRIPTION like '%Minor%'\")\n",
    "display(mycursor)"
   ]
  },
  {
   "cell_type": "code",
   "execution_count": 70,
   "metadata": {},
   "outputs": [
    {
     "name": "stdout",
     "output_type": "stream",
     "text": [
      "('HN144152',)\n"
     ]
    }
   ],
   "source": [
    "mycursor.execute(\"Select CASE_NUMBER from Crime2 Where PRIMARY_TYPE = 'KIDNAPPING' and  DESCRIPTION like '%Child%'\")\n",
    "display(mycursor)"
   ]
  },
  {
   "cell_type": "code",
   "execution_count": 77,
   "metadata": {},
   "outputs": [
    {
     "name": "stdout",
     "output_type": "stream",
     "text": [
      "('ASSAULT',)\n",
      "('BATTERY',)\n",
      "('CRIMINAL DAMAGE',)\n",
      "('CRIMINAL TRESPASS',)\n",
      "('NARCOTICS',)\n"
     ]
    }
   ],
   "source": [
    "mycursor.execute(\"Select Distinct(PRIMARY_TYPE) from Crime2 Where LOCATION_DESCRIPTION like '%School%' Order By PRIMARY_TYPE \")\n",
    "display(mycursor)"
   ]
  },
  {
   "cell_type": "code",
   "execution_count": 47,
   "metadata": {},
   "outputs": [
    {
     "name": "stdout",
     "output_type": "stream",
     "text": [
      "('ES', Decimal('49.4371'))\n",
      "('HS', Decimal('56.8286'))\n",
      "('MS', Decimal('53.0000'))\n"
     ]
    }
   ],
   "source": [
    "mycursor.execute(\"Select  E_M_H,AVG(SAFETY_SCORE) from School1 Group By E_M_H\")\n",
    "display(mycursor)"
   ]
  },
  {
   "cell_type": "code",
   "execution_count": 48,
   "metadata": {},
   "outputs": [
    {
     "name": "stdout",
     "output_type": "stream",
     "text": [
      "('Riverdale',)\n",
      "('Fuller Park',)\n",
      "('Englewood',)\n",
      "('North Lawndale',)\n",
      "('East Garfield Park',)\n"
     ]
    }
   ],
   "source": [
    "mycursor.execute(\"Select  COMMUNITY_AREA_NAME from Census Order By PERCENT_HOUSEHOLDS_BELOW_POVERTY Desc LIMIT 5\")\n",
    "display(mycursor)"
   ]
  },
  {
   "cell_type": "code",
   "execution_count": 72,
   "metadata": {},
   "outputs": [
    {
     "name": "stdout",
     "output_type": "stream",
     "text": [
      "(25,)\n"
     ]
    }
   ],
   "source": [
    "mycursor.execute(\"Select  COMMUNITY_AREA_NUMBER from Crime2 Group By COMMUNITY_AREA_NUMBER Order By COUNT(COMMUNITY_AREA_NUMBER) DESC LIMIT 1\") \n",
    "display(mycursor)"
   ]
  },
  {
   "cell_type": "code",
   "execution_count": 52,
   "metadata": {},
   "outputs": [
    {
     "name": "stdout",
     "output_type": "stream",
     "text": [
      "('Riverdale',)\n"
     ]
    }
   ],
   "source": [
    "mycursor.execute(\"Select  COMMUNITY_AREA_NAME from Census Where HARDSHIP_INDEX = (Select MAX(HARDSHIP_INDEX) from Census)\")\n",
    "display(mycursor)"
   ]
  },
  {
   "cell_type": "code",
   "execution_count": 53,
   "metadata": {},
   "outputs": [
    {
     "name": "stdout",
     "output_type": "stream",
     "text": [
      "('Austin',)\n"
     ]
    }
   ],
   "source": [
    "mycursor.execute(\"Select  C.COMMUNITY_AREA_NAME from Census C Join Crime2 C2 ON C.COMMUNITY_AREA_NUMBER = C2.COMMUNITY_AREA_NUMBER Group By C.COMMUNITY_AREA_NAME Order By COUNT(C2.COMMUNITY_AREA_NUMBER) Desc LIMIT 1\") \n",
    "display(mycursor)"
   ]
  }
 ],
 "metadata": {
  "kernelspec": {
   "display_name": "Python 3",
   "language": "python",
   "name": "python3"
  },
  "language_info": {
   "codemirror_mode": {
    "name": "ipython",
    "version": 3
   },
   "file_extension": ".py",
   "mimetype": "text/x-python",
   "name": "python",
   "nbconvert_exporter": "python",
   "pygments_lexer": "ipython3",
   "version": "3.6.13"
  }
 },
 "nbformat": 4,
 "nbformat_minor": 2
}
